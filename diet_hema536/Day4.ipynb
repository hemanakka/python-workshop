{
 "cells": [
  {
   "cell_type": "markdown",
   "metadata": {},
   "source": [
    "# Day objectives"
   ]
  },
  {
   "cell_type": "markdown",
   "metadata": {},
   "source": [
    "## Packages"
   ]
  },
  {
   "cell_type": "markdown",
   "metadata": {},
   "source": [
    "## File handling"
   ]
  },
  {
   "cell_type": "markdown",
   "metadata": {},
   "source": [
    "* a.Read mode\n",
    "* b.Write mode\n",
    "* c.Append mode"
   ]
  },
  {
   "cell_type": "code",
   "execution_count": 5,
   "metadata": {},
   "outputs": [
    {
     "data": {
      "text/plain": [
       "57"
      ]
     },
     "execution_count": 5,
     "metadata": {},
     "output_type": "execute_result"
    }
   ],
   "source": [
    "# collections of modules\n",
    "from Packages import module\n",
    "module.add(23,34)"
   ]
  },
  {
   "cell_type": "code",
   "execution_count": 1,
   "metadata": {},
   "outputs": [
    {
     "name": "stdout",
     "output_type": "stream",
     "text": [
      "it is a leap year\n"
     ]
    }
   ],
   "source": [
    "from Packages import module\n",
    "module.isleapyear(2000)"
   ]
  },
  {
   "cell_type": "code",
   "execution_count": 2,
   "metadata": {},
   "outputs": [
    {
     "data": {
      "text/plain": [
       "36"
      ]
     },
     "execution_count": 2,
     "metadata": {},
     "output_type": "execute_result"
    }
   ],
   "source": [
    "module.add(12,24)"
   ]
  },
  {
   "cell_type": "code",
   "execution_count": 2,
   "metadata": {},
   "outputs": [
    {
     "name": "stdout",
     "output_type": "stream",
     "text": [
      "prime\n"
     ]
    }
   ],
   "source": [
    "from Packages import module\n",
    "module.isPrime(7)"
   ]
  },
  {
   "cell_type": "code",
   "execution_count": 4,
   "metadata": {},
   "outputs": [
    {
     "name": "stdout",
     "output_type": "stream",
     "text": [
      "20\n",
      "22\n",
      "24\n",
      "26\n",
      "28\n",
      "30\n"
     ]
    }
   ],
   "source": [
    "from Packages import module\n",
    "module.alleven(20,30)"
   ]
  },
  {
   "cell_type": "code",
   "execution_count": 1,
   "metadata": {},
   "outputs": [
    {
     "data": {
      "text/plain": [
       "120"
      ]
     },
     "execution_count": 1,
     "metadata": {},
     "output_type": "execute_result"
    }
   ],
   "source": [
    "from Packages import module\n",
    "module.fact(5)"
   ]
  },
  {
   "cell_type": "markdown",
   "metadata": {},
   "source": [
    "## Files"
   ]
  },
  {
   "cell_type": "code",
   "execution_count": null,
   "metadata": {},
   "outputs": [],
   "source": [
    "# open(data.txt,mode of operation)\n",
    "# write(data.txt,'w')\n",
    "# read(data.txt,'r')\n",
    "# append(data.txt,'a')\n",
    "# f.close()"
   ]
  },
  {
   "cell_type": "code",
   "execution_count": 3,
   "metadata": {},
   "outputs": [],
   "source": [
    "def writeData():\n",
    "    with open(\"Files/data1.txt\",'w') as f:\n",
    "        f.write(\"hema\")\n",
    "    f.close()\n",
    "writeData()\n",
    "        "
   ]
  },
  {
   "cell_type": "code",
   "execution_count": 4,
   "metadata": {},
   "outputs": [
    {
     "name": "stdout",
     "output_type": "stream",
     "text": [
      "hema\n"
     ]
    }
   ],
   "source": [
    "def readData():\n",
    "    with open(\"Files/data1.txt\",'r') as f:\n",
    "        print(f.read())\n",
    "readData()"
   ]
  },
  {
   "cell_type": "code",
   "execution_count": 1,
   "metadata": {},
   "outputs": [],
   "source": [
    "def appendData():\n",
    "    with open(\"Files/data1.txt\",'a') as f:\n",
    "        f.write(\"\\n workshop\")\n",
    "    f.close()\n",
    "appendData()"
   ]
  },
  {
   "cell_type": "code",
   "execution_count": 1,
   "metadata": {
    "collapsed": true
   },
   "outputs": [
    {
     "name": "stdout",
     "output_type": "stream",
     "text": [
      "hema\n",
      "\n",
      " eorkshop\n",
      "\n",
      " eorkshop\n",
      "\n",
      " eorkshop\n",
      "\n",
      " workshop\n",
      "\n",
      " workshop\n"
     ]
    }
   ],
   "source": [
    "def readData():\n",
    "    with open(\"Files/data1.txt\",'r') as f:\n",
    "        for line in f.readlines():\n",
    "            print(line)\n",
    "readData()\n"
   ]
  },
  {
   "cell_type": "code",
   "execution_count": 2,
   "metadata": {},
   "outputs": [],
   "source": [
    "# Generate student mark list\n",
    "from random import randint \n",
    "\n",
    "def marklist(n,lb,ub):\n",
    "    with open(\"Files/marks.txt\",'w') as f:\n",
    "        for student in range(60):\n",
    "            mark=randint(lb,ub)\n",
    "            f.write(str(mark))\n",
    "            f.write('\\n')\n",
    "    f.close()\n",
    "marklist(60,0,100)\n",
    "    "
   ]
  },
  {
   "cell_type": "code",
   "execution_count": 4,
   "metadata": {},
   "outputs": [
    {
     "name": "stdout",
     "output_type": "stream",
     "text": [
      "average of total students 46.63333333333333\n"
     ]
    }
   ],
   "source": [
    "def avgStudentMarks():\n",
    "    with open(\"Files/marks.txt\",'r') as f:\n",
    "        sum=0\n",
    "        c=0\n",
    "        for line in f:\n",
    "            sum+=int(line)\n",
    "            c+=1\n",
    "    print(\"average of total students\",sum/c)\n",
    "avgStudentMarks()"
   ]
  },
  {
   "cell_type": "code",
   "execution_count": null,
   "metadata": {},
   "outputs": [],
   "source": [
    "def passpercent():\n",
    "    with open(\"Files/marks.txt\",'r') as f:\n",
    "        "
   ]
  },
  {
   "cell_type": "markdown",
   "metadata": {},
   "source": [
    "## File data processing"
   ]
  },
  {
   "cell_type": "code",
   "execution_count": null,
   "metadata": {},
   "outputs": [],
   "source": [
    "# manipulation of data\n",
    "# line count\n",
    "# word count\n",
    "# char count\n",
    "# alpha count\n",
    "# numeric count\n",
    "# special char count"
   ]
  },
  {
   "cell_type": "code",
   "execution_count": 1,
   "metadata": {},
   "outputs": [
    {
     "data": {
      "text/plain": [
       "1"
      ]
     },
     "execution_count": 1,
     "metadata": {},
     "output_type": "execute_result"
    }
   ],
   "source": [
    "def linecount():\n",
    "    with open(\"Files/data1.txt\",'r') as f:\n",
    "        c=0\n",
    "        for line in f.readlines():\n",
    "            c+=1\n",
    "    return c\n",
    "linecount()"
   ]
  },
  {
   "cell_type": "code",
   "execution_count": 2,
   "metadata": {},
   "outputs": [
    {
     "data": {
      "text/plain": [
       "1"
      ]
     },
     "execution_count": 2,
     "metadata": {},
     "output_type": "execute_result"
    }
   ],
   "source": [
    "def charcount():\n",
    "    with open(\"Files/data1.txt\",'r') as f:\n",
    "        ch=0\n",
    "        for char in f:\n",
    "            ch+=1\n",
    "    return ch\n",
    "charcount()\n",
    "\n"
   ]
  },
  {
   "cell_type": "code",
   "execution_count": 14,
   "metadata": {},
   "outputs": [
    {
     "name": "stdout",
     "output_type": "stream",
     "text": [
      "char count 9\n",
      "alpha count 4\n"
     ]
    }
   ],
   "source": [
    "def alphacount():\n",
    "    with open(\"Files/data1.txt\",'r') as f:\n",
    "        c=0\n",
    "        ch=0\n",
    "        for char in f.read():\n",
    "            ch+=1\n",
    "            if char.isalpha():\n",
    "                c+=1\n",
    "    print(\"char count\",ch)\n",
    "    print(\"alpha count\",c)\n",
    "alphacount()  "
   ]
  },
  {
   "cell_type": "code",
   "execution_count": 13,
   "metadata": {},
   "outputs": [
    {
     "name": "stdout",
     "output_type": "stream",
     "text": [
      "digit count 5\n"
     ]
    }
   ],
   "source": [
    "def digitcount():\n",
    "    with open(\"Files/data1.txt\",'r') as f:\n",
    "        c=0\n",
    "        for digit in f.read():\n",
    "            if digit.isdigit():\n",
    "                c+=1\n",
    "        print(\"digit count\",c)\n",
    "digitcount()"
   ]
  },
  {
   "cell_type": "code",
   "execution_count": 21,
   "metadata": {},
   "outputs": [
    {
     "name": "stdout",
     "output_type": "stream",
     "text": [
      "1\n"
     ]
    }
   ],
   "source": [
    "def wordcount():\n",
    "    with open(\"Files/data1.txt\",'r') as f:\n",
    "        c=0\n",
    "        for line in f.readlines():\n",
    "                c+=len(line.split())\n",
    "    print(c)\n",
    "wordcount()"
   ]
  },
  {
   "cell_type": "code",
   "execution_count": null,
   "metadata": {},
   "outputs": [],
   "source": [
    "def splcharcount():\n",
    "    with open(\"Files/data1.txt\",'r') as f:\n",
    "         c=0\n",
    "        for line in f.read():\n",
    "            "
   ]
  }
 ],
 "metadata": {
  "kernelspec": {
   "display_name": "Python 3",
   "language": "python",
   "name": "python3"
  },
  "language_info": {
   "codemirror_mode": {
    "name": "ipython",
    "version": 3
   },
   "file_extension": ".py",
   "mimetype": "text/x-python",
   "name": "python",
   "nbconvert_exporter": "python",
   "pygments_lexer": "ipython3",
   "version": "3.7.3"
  }
 },
 "nbformat": 4,
 "nbformat_minor": 2
}
